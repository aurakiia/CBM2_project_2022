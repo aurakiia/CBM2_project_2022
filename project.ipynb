{
 "cells": [
  {
   "cell_type": "markdown",
   "source": "# Titanic - Machine Learning from Disaster",
   "metadata": {
    "tags": [],
    "cell_id": "5129ddf9-e2da-4ae3-ac1b-62057caa5ad1",
    "deepnote_cell_type": "markdown",
    "deepnote_cell_height": 82
   }
  },
  {
   "cell_type": "markdown",
   "source": "<h1>Table of Contents<span class=\"tocSkip\"></span></h1>\n<div class=\"toc\"><ul class=\"toc-item\"><li><span><a href=\"#Titanic---Machine-Learning-from-Disaster\" data-toc-modified-id=\"Titanic---Machine-Learning-from-Disaster-1\"><span class=\"toc-item-num\">1&nbsp;&nbsp;</span>Titanic - Machine Learning from Disaster</a></span><ul class=\"toc-item\"><li><span><a href=\"#Importing-data\" data-toc-modified-id=\"Importing-data-1.1\"><span class=\"toc-item-num\">1.1&nbsp;&nbsp;</span>Importing data</a></span></li><li><span><a href=\"#Splitting-data\" data-toc-modified-id=\"Splitting-data-1.2\"><span class=\"toc-item-num\">1.2&nbsp;&nbsp;</span>Splitting data</a></span></li><li><span><a href=\"#Training-model\" data-toc-modified-id=\"Training-model-1.3\"><span class=\"toc-item-num\">1.3&nbsp;&nbsp;</span>Training model</a></span></li><li><span><a href=\"#Testing-model\" data-toc-modified-id=\"Testing-model-1.4\"><span class=\"toc-item-num\">1.4&nbsp;&nbsp;</span>Testing model</a></span></li></ul></li></ul></div>",
   "metadata": {
    "toc": true,
    "cell_id": "00001-e6342a3f-263e-445b-ab5a-2c9065ad1bb7",
    "deepnote_cell_type": "markdown"
   }
  },
  {
   "cell_type": "markdown",
   "source": "\nDescribes the titanic data: https://www.kaggle.com/competitions/titanic/data ",
   "metadata": {
    "tags": [],
    "cell_id": "00002-9edc6937-6b25-44b5-b745-360ef77adf69",
    "deepnote_cell_type": "markdown",
    "deepnote_cell_height": 52.390625
   }
  },
  {
   "cell_type": "markdown",
   "source": "* First task: Change the categorical values to numerical.\n* Second task: Tune our model. (FInd the best parameters and scoring system etc.) https://scikit-learn.org/stable/modules/model_evaluation.html\n* Third task: Is your score good?\n* Fourth task: Try another model.\n\n\n* Extra: Please visualise with a couple of different ways with different groups: ages 0-18 and 18-30, 30-60 and 60-80. Which age groups are more likely to survive?",
   "metadata": {
    "deepnote_to_be_reexecuted": false,
    "execution_millis": 14,
    "execution_start": 1653390525230,
    "owner_user_id": "85f44c39-b179-4ddd-8890-9899075e348a",
    "source_hash": "f44f687",
    "tags": [],
    "cell_id": "00003-c7f9f61e-fbc8-4606-b245-ddb16c9f5c64",
    "deepnote_cell_type": "markdown",
    "deepnote_cell_height": 393.734375
   }
  },
  {
   "cell_type": "code",
   "metadata": {
    "deepnote_to_be_reexecuted": false,
    "execution_millis": 19,
    "execution_start": 1653389050050,
    "owner_user_id": "403c490d-5063-46f0-8428-cacd1eabced9",
    "source_hash": "206e09b7",
    "tags": [],
    "cell_id": "00004-d9f2f8b7-d1f7-4428-be6c-346cedbb045a",
    "deepnote_cell_type": "code",
    "deepnote_cell_height": 315
   },
   "source": "import pandas as pd\nimport numpy as np\nfrom matplotlib import pyplot as plt\nimport seaborn as sns\nfrom sklearn.datasets import make_regression\nfrom sklearn.linear_model import LinearRegression\nfrom sklearn.preprocessing import PolynomialFeatures\nfrom sklearn.model_selection import GridSearchCV\nfrom sklearn.tree import DecisionTreeClassifier\nfrom sklearn.model_selection import train_test_split\nfrom sklearn.metrics import accuracy_score\n\nplt.style.use('ggplot') #for visual style\n%matplotlib inline",
   "execution_count": 80,
   "outputs": []
  },
  {
   "cell_type": "markdown",
   "source": "## Importing data",
   "metadata": {
    "cell_id": "00005-51dc2078-7a44-4c45-b94c-a30346c5d67f",
    "deepnote_cell_type": "markdown"
   }
  },
  {
   "cell_type": "code",
   "metadata": {
    "deepnote_to_be_reexecuted": false,
    "execution_millis": 11,
    "execution_start": 1653387470663,
    "source_hash": "9993e48f",
    "tags": [],
    "cell_id": "00006-2b62b1a7-2fe3-4fca-8f8e-e72d5ef07df5",
    "deepnote_cell_type": "code",
    "deepnote_cell_height": 99
   },
   "source": "#Importing the data\ntitanic = pd.read_csv(\"train.csv\")",
   "execution_count": 40,
   "outputs": []
  },
  {
   "cell_type": "code",
   "metadata": {
    "deepnote_to_be_reexecuted": false,
    "execution_millis": 146,
    "execution_start": 1653385854583,
    "source_hash": "6a379207",
    "tags": [],
    "cell_id": "00007-79f6b6fb-80e3-4745-bb2e-197bfa1f42b2",
    "deepnote_cell_type": "code",
    "deepnote_cell_height": 430
   },
   "source": "# Checking our data\ntitanic.head()",
   "execution_count": 14,
   "outputs": [
    {
     "data": {
      "application/vnd.deepnote.dataframe.v3+json": {
       "column_count": 12,
       "columns": [
        {
         "dtype": "int64",
         "name": "PassengerId",
         "stats": {
          "histogram": [
           {
            "bin_end": 1.4,
            "bin_start": 1,
            "count": 1
           },
           {
            "bin_end": 1.8,
            "bin_start": 1.4,
            "count": 0
           },
           {
            "bin_end": 2.2,
            "bin_start": 1.8,
            "count": 1
           },
           {
            "bin_end": 2.6,
            "bin_start": 2.2,
            "count": 0
           },
           {
            "bin_end": 3,
            "bin_start": 2.6,
            "count": 0
           },
           {
            "bin_end": 3.4000000000000004,
            "bin_start": 3,
            "count": 1
           },
           {
            "bin_end": 3.8000000000000003,
            "bin_start": 3.4000000000000004,
            "count": 0
           },
           {
            "bin_end": 4.2,
            "bin_start": 3.8000000000000003,
            "count": 1
           },
           {
            "bin_end": 4.6,
            "bin_start": 4.2,
            "count": 0
           },
           {
            "bin_end": 5,
            "bin_start": 4.6,
            "count": 1
           }
          ],
          "max": "5",
          "min": "1",
          "nan_count": 0,
          "unique_count": 5
         }
        },
        {
         "dtype": "int64",
         "name": "Survived",
         "stats": {
          "histogram": [
           {
            "bin_end": 0.1,
            "bin_start": 0,
            "count": 2
           },
           {
            "bin_end": 0.2,
            "bin_start": 0.1,
            "count": 0
           },
           {
            "bin_end": 0.30000000000000004,
            "bin_start": 0.2,
            "count": 0
           },
           {
            "bin_end": 0.4,
            "bin_start": 0.30000000000000004,
            "count": 0
           },
           {
            "bin_end": 0.5,
            "bin_start": 0.4,
            "count": 0
           },
           {
            "bin_end": 0.6000000000000001,
            "bin_start": 0.5,
            "count": 0
           },
           {
            "bin_end": 0.7000000000000001,
            "bin_start": 0.6000000000000001,
            "count": 0
           },
           {
            "bin_end": 0.8,
            "bin_start": 0.7000000000000001,
            "count": 0
           },
           {
            "bin_end": 0.9,
            "bin_start": 0.8,
            "count": 0
           },
           {
            "bin_end": 1,
            "bin_start": 0.9,
            "count": 3
           }
          ],
          "max": "1",
          "min": "0",
          "nan_count": 0,
          "unique_count": 2
         }
        },
        {
         "dtype": "int64",
         "name": "Pclass",
         "stats": {
          "histogram": [
           {
            "bin_end": 1.2,
            "bin_start": 1,
            "count": 2
           },
           {
            "bin_end": 1.4,
            "bin_start": 1.2,
            "count": 0
           },
           {
            "bin_end": 1.6,
            "bin_start": 1.4,
            "count": 0
           },
           {
            "bin_end": 1.8,
            "bin_start": 1.6,
            "count": 0
           },
           {
            "bin_end": 2,
            "bin_start": 1.8,
            "count": 0
           },
           {
            "bin_end": 2.2,
            "bin_start": 2,
            "count": 0
           },
           {
            "bin_end": 2.4000000000000004,
            "bin_start": 2.2,
            "count": 0
           },
           {
            "bin_end": 2.6,
            "bin_start": 2.4000000000000004,
            "count": 0
           },
           {
            "bin_end": 2.8,
            "bin_start": 2.6,
            "count": 0
           },
           {
            "bin_end": 3,
            "bin_start": 2.8,
            "count": 3
           }
          ],
          "max": "3",
          "min": "1",
          "nan_count": 0,
          "unique_count": 2
         }
        },
        {
         "dtype": "object",
         "name": "Name",
         "stats": {
          "categories": [
           {
            "count": 1,
            "name": "Braund, Mr. Owen Harris"
           },
           {
            "count": 1,
            "name": "Cumings, Mrs. John Bradley (Florence Briggs Thayer)"
           },
           {
            "count": 3,
            "name": "3 others"
           }
          ],
          "nan_count": 0,
          "unique_count": 5
         }
        },
        {
         "dtype": "object",
         "name": "Sex",
         "stats": {
          "categories": [
           {
            "count": 3,
            "name": "female"
           },
           {
            "count": 2,
            "name": "male"
           }
          ],
          "nan_count": 0,
          "unique_count": 2
         }
        },
        {
         "dtype": "float64",
         "name": "Age",
         "stats": {
          "histogram": [
           {
            "bin_end": 23.6,
            "bin_start": 22,
            "count": 1
           },
           {
            "bin_end": 25.2,
            "bin_start": 23.6,
            "count": 0
           },
           {
            "bin_end": 26.8,
            "bin_start": 25.2,
            "count": 1
           },
           {
            "bin_end": 28.4,
            "bin_start": 26.8,
            "count": 0
           },
           {
            "bin_end": 30,
            "bin_start": 28.4,
            "count": 0
           },
           {
            "bin_end": 31.6,
            "bin_start": 30,
            "count": 0
           },
           {
            "bin_end": 33.2,
            "bin_start": 31.6,
            "count": 0
           },
           {
            "bin_end": 34.8,
            "bin_start": 33.2,
            "count": 0
           },
           {
            "bin_end": 36.4,
            "bin_start": 34.8,
            "count": 2
           },
           {
            "bin_end": 38,
            "bin_start": 36.4,
            "count": 1
           }
          ],
          "max": "38.0",
          "min": "22.0",
          "nan_count": 0,
          "unique_count": 4
         }
        },
        {
         "dtype": "int64",
         "name": "SibSp",
         "stats": {
          "histogram": [
           {
            "bin_end": 0.1,
            "bin_start": 0,
            "count": 2
           },
           {
            "bin_end": 0.2,
            "bin_start": 0.1,
            "count": 0
           },
           {
            "bin_end": 0.30000000000000004,
            "bin_start": 0.2,
            "count": 0
           },
           {
            "bin_end": 0.4,
            "bin_start": 0.30000000000000004,
            "count": 0
           },
           {
            "bin_end": 0.5,
            "bin_start": 0.4,
            "count": 0
           },
           {
            "bin_end": 0.6000000000000001,
            "bin_start": 0.5,
            "count": 0
           },
           {
            "bin_end": 0.7000000000000001,
            "bin_start": 0.6000000000000001,
            "count": 0
           },
           {
            "bin_end": 0.8,
            "bin_start": 0.7000000000000001,
            "count": 0
           },
           {
            "bin_end": 0.9,
            "bin_start": 0.8,
            "count": 0
           },
           {
            "bin_end": 1,
            "bin_start": 0.9,
            "count": 3
           }
          ],
          "max": "1",
          "min": "0",
          "nan_count": 0,
          "unique_count": 2
         }
        },
        {
         "dtype": "int64",
         "name": "Parch",
         "stats": {
          "histogram": [
           {
            "bin_end": -0.4,
            "bin_start": -0.5,
            "count": 0
           },
           {
            "bin_end": -0.3,
            "bin_start": -0.4,
            "count": 0
           },
           {
            "bin_end": -0.19999999999999996,
            "bin_start": -0.3,
            "count": 0
           },
           {
            "bin_end": -0.09999999999999998,
            "bin_start": -0.19999999999999996,
            "count": 0
           },
           {
            "bin_end": 0,
            "bin_start": -0.09999999999999998,
            "count": 0
           },
           {
            "bin_end": 0.10000000000000009,
            "bin_start": 0,
            "count": 5
           },
           {
            "bin_end": 0.20000000000000007,
            "bin_start": 0.10000000000000009,
            "count": 0
           },
           {
            "bin_end": 0.30000000000000004,
            "bin_start": 0.20000000000000007,
            "count": 0
           },
           {
            "bin_end": 0.4,
            "bin_start": 0.30000000000000004,
            "count": 0
           },
           {
            "bin_end": 0.5,
            "bin_start": 0.4,
            "count": 0
           }
          ],
          "max": "0",
          "min": "0",
          "nan_count": 0,
          "unique_count": 1
         }
        },
        {
         "dtype": "object",
         "name": "Ticket",
         "stats": {
          "categories": [
           {
            "count": 1,
            "name": "A/5 21171"
           },
           {
            "count": 1,
            "name": "PC 17599"
           },
           {
            "count": 3,
            "name": "3 others"
           }
          ],
          "nan_count": 0,
          "unique_count": 5
         }
        },
        {
         "dtype": "float64",
         "name": "Fare",
         "stats": {
          "histogram": [
           {
            "bin_end": 13.65333,
            "bin_start": 7.25,
            "count": 3
           },
           {
            "bin_end": 20.05666,
            "bin_start": 13.65333,
            "count": 0
           },
           {
            "bin_end": 26.459989999999998,
            "bin_start": 20.05666,
            "count": 0
           },
           {
            "bin_end": 32.86332,
            "bin_start": 26.459989999999998,
            "count": 0
           },
           {
            "bin_end": 39.26665,
            "bin_start": 32.86332,
            "count": 0
           },
           {
            "bin_end": 45.669979999999995,
            "bin_start": 39.26665,
            "count": 0
           },
           {
            "bin_end": 52.07331,
            "bin_start": 45.669979999999995,
            "count": 0
           },
           {
            "bin_end": 58.476639999999996,
            "bin_start": 52.07331,
            "count": 1
           },
           {
            "bin_end": 64.87996999999999,
            "bin_start": 58.476639999999996,
            "count": 0
           },
           {
            "bin_end": 71.2833,
            "bin_start": 64.87996999999999,
            "count": 1
           }
          ],
          "max": "71.2833",
          "min": "7.25",
          "nan_count": 0,
          "unique_count": 5
         }
        },
        {
         "dtype": "object",
         "name": "Cabin",
         "stats": {
          "categories": [
           {
            "count": 1,
            "name": "C85"
           },
           {
            "count": 1,
            "name": "C123"
           },
           {
            "count": 3,
            "name": "Missing"
           }
          ],
          "nan_count": 3,
          "unique_count": 2
         }
        },
        {
         "dtype": "object",
         "name": "Embarked",
         "stats": {
          "categories": [
           {
            "count": 4,
            "name": "S"
           },
           {
            "count": 1,
            "name": "C"
           }
          ],
          "nan_count": 0,
          "unique_count": 2
         }
        },
        {
         "dtype": "int64",
         "name": "_deepnote_index_column"
        }
       ],
       "row_count": 5,
       "rows": [
        {
         "Age": 22,
         "Cabin": "nan",
         "Embarked": "S",
         "Fare": 7.25,
         "Name": "Braund, Mr. Owen Harris",
         "Parch": 0,
         "PassengerId": 1,
         "Pclass": 3,
         "Sex": "male",
         "SibSp": 1,
         "Survived": 0,
         "Ticket": "A/5 21171",
         "_deepnote_index_column": 0
        },
        {
         "Age": 38,
         "Cabin": "C85",
         "Embarked": "C",
         "Fare": 71.2833,
         "Name": "Cumings, Mrs. John Bradley (Florence Briggs Thayer)",
         "Parch": 0,
         "PassengerId": 2,
         "Pclass": 1,
         "Sex": "female",
         "SibSp": 1,
         "Survived": 1,
         "Ticket": "PC 17599",
         "_deepnote_index_column": 1
        },
        {
         "Age": 26,
         "Cabin": "nan",
         "Embarked": "S",
         "Fare": 7.925,
         "Name": "Heikkinen, Miss. Laina",
         "Parch": 0,
         "PassengerId": 3,
         "Pclass": 3,
         "Sex": "female",
         "SibSp": 0,
         "Survived": 1,
         "Ticket": "STON/O2. 3101282",
         "_deepnote_index_column": 2
        },
        {
         "Age": 35,
         "Cabin": "C123",
         "Embarked": "S",
         "Fare": 53.1,
         "Name": "Futrelle, Mrs. Jacques Heath (Lily May Peel)",
         "Parch": 0,
         "PassengerId": 4,
         "Pclass": 1,
         "Sex": "female",
         "SibSp": 1,
         "Survived": 1,
         "Ticket": "113803",
         "_deepnote_index_column": 3
        },
        {
         "Age": 35,
         "Cabin": "nan",
         "Embarked": "S",
         "Fare": 8.05,
         "Name": "Allen, Mr. William Henry",
         "Parch": 0,
         "PassengerId": 5,
         "Pclass": 3,
         "Sex": "male",
         "SibSp": 0,
         "Survived": 0,
         "Ticket": "373450",
         "_deepnote_index_column": 4
        }
       ]
      },
      "text/html": "<div>\n<style scoped>\n    .dataframe tbody tr th:only-of-type {\n        vertical-align: middle;\n    }\n\n    .dataframe tbody tr th {\n        vertical-align: top;\n    }\n\n    .dataframe thead th {\n        text-align: right;\n    }\n</style>\n<table border=\"1\" class=\"dataframe\">\n  <thead>\n    <tr style=\"text-align: right;\">\n      <th></th>\n      <th>PassengerId</th>\n      <th>Survived</th>\n      <th>Pclass</th>\n      <th>Name</th>\n      <th>Sex</th>\n      <th>Age</th>\n      <th>SibSp</th>\n      <th>Parch</th>\n      <th>Ticket</th>\n      <th>Fare</th>\n      <th>Cabin</th>\n      <th>Embarked</th>\n    </tr>\n  </thead>\n  <tbody>\n    <tr>\n      <th>0</th>\n      <td>1</td>\n      <td>0</td>\n      <td>3</td>\n      <td>Braund, Mr. Owen Harris</td>\n      <td>male</td>\n      <td>22.0</td>\n      <td>1</td>\n      <td>0</td>\n      <td>A/5 21171</td>\n      <td>7.2500</td>\n      <td>NaN</td>\n      <td>S</td>\n    </tr>\n    <tr>\n      <th>1</th>\n      <td>2</td>\n      <td>1</td>\n      <td>1</td>\n      <td>Cumings, Mrs. John Bradley (Florence Briggs Th...</td>\n      <td>female</td>\n      <td>38.0</td>\n      <td>1</td>\n      <td>0</td>\n      <td>PC 17599</td>\n      <td>71.2833</td>\n      <td>C85</td>\n      <td>C</td>\n    </tr>\n    <tr>\n      <th>2</th>\n      <td>3</td>\n      <td>1</td>\n      <td>3</td>\n      <td>Heikkinen, Miss. Laina</td>\n      <td>female</td>\n      <td>26.0</td>\n      <td>0</td>\n      <td>0</td>\n      <td>STON/O2. 3101282</td>\n      <td>7.9250</td>\n      <td>NaN</td>\n      <td>S</td>\n    </tr>\n    <tr>\n      <th>3</th>\n      <td>4</td>\n      <td>1</td>\n      <td>1</td>\n      <td>Futrelle, Mrs. Jacques Heath (Lily May Peel)</td>\n      <td>female</td>\n      <td>35.0</td>\n      <td>1</td>\n      <td>0</td>\n      <td>113803</td>\n      <td>53.1000</td>\n      <td>C123</td>\n      <td>S</td>\n    </tr>\n    <tr>\n      <th>4</th>\n      <td>5</td>\n      <td>0</td>\n      <td>3</td>\n      <td>Allen, Mr. William Henry</td>\n      <td>male</td>\n      <td>35.0</td>\n      <td>0</td>\n      <td>0</td>\n      <td>373450</td>\n      <td>8.0500</td>\n      <td>NaN</td>\n      <td>S</td>\n    </tr>\n  </tbody>\n</table>\n</div>",
      "text/plain": "   PassengerId  Survived  Pclass  \\\n0            1         0       3   \n1            2         1       1   \n2            3         1       3   \n3            4         1       1   \n4            5         0       3   \n\n                                                Name     Sex   Age  SibSp  \\\n0                            Braund, Mr. Owen Harris    male  22.0      1   \n1  Cumings, Mrs. John Bradley (Florence Briggs Th...  female  38.0      1   \n2                             Heikkinen, Miss. Laina  female  26.0      0   \n3       Futrelle, Mrs. Jacques Heath (Lily May Peel)  female  35.0      1   \n4                           Allen, Mr. William Henry    male  35.0      0   \n\n   Parch            Ticket     Fare Cabin Embarked  \n0      0         A/5 21171   7.2500   NaN        S  \n1      0          PC 17599  71.2833   C85        C  \n2      0  STON/O2. 3101282   7.9250   NaN        S  \n3      0            113803  53.1000  C123        S  \n4      0            373450   8.0500   NaN        S  "
     },
     "execution_count": 14,
     "metadata": {},
     "output_type": "execute_result"
    }
   ]
  },
  {
   "cell_type": "code",
   "metadata": {
    "deepnote_to_be_reexecuted": false,
    "execution_millis": 218,
    "execution_start": 1653385857080,
    "source_hash": "5eea73d8",
    "tags": [],
    "cell_id": "00008-f9d098f8-709f-4eaa-8c9a-9ad395b6db22",
    "deepnote_cell_type": "code",
    "deepnote_cell_height": 553
   },
   "source": "#checking the data\ntitanic.describe()",
   "execution_count": 15,
   "outputs": [
    {
     "data": {
      "application/vnd.deepnote.dataframe.v3+json": {
       "column_count": 7,
       "columns": [
        {
         "dtype": "float64",
         "name": "PassengerId",
         "stats": {
          "histogram": [
           {
            "bin_end": 90,
            "bin_start": 1,
            "count": 1
           },
           {
            "bin_end": 179,
            "bin_start": 90,
            "count": 0
           },
           {
            "bin_end": 268,
            "bin_start": 179,
            "count": 2
           },
           {
            "bin_end": 357,
            "bin_start": 268,
            "count": 0
           },
           {
            "bin_end": 446,
            "bin_start": 357,
            "count": 0
           },
           {
            "bin_end": 535,
            "bin_start": 446,
            "count": 2
           },
           {
            "bin_end": 624,
            "bin_start": 535,
            "count": 0
           },
           {
            "bin_end": 713,
            "bin_start": 624,
            "count": 1
           },
           {
            "bin_end": 802,
            "bin_start": 713,
            "count": 0
           },
           {
            "bin_end": 891,
            "bin_start": 802,
            "count": 2
           }
          ],
          "max": "891.0",
          "min": "1.0",
          "nan_count": 0,
          "unique_count": 6
         }
        },
        {
         "dtype": "float64",
         "name": "Survived",
         "stats": {
          "histogram": [
           {
            "bin_end": 89.1,
            "bin_start": 0,
            "count": 7
           },
           {
            "bin_end": 178.2,
            "bin_start": 89.1,
            "count": 0
           },
           {
            "bin_end": 267.29999999999995,
            "bin_start": 178.2,
            "count": 0
           },
           {
            "bin_end": 356.4,
            "bin_start": 267.29999999999995,
            "count": 0
           },
           {
            "bin_end": 445.5,
            "bin_start": 356.4,
            "count": 0
           },
           {
            "bin_end": 534.5999999999999,
            "bin_start": 445.5,
            "count": 0
           },
           {
            "bin_end": 623.6999999999999,
            "bin_start": 534.5999999999999,
            "count": 0
           },
           {
            "bin_end": 712.8,
            "bin_start": 623.6999999999999,
            "count": 0
           },
           {
            "bin_end": 801.9,
            "bin_start": 712.8,
            "count": 0
           },
           {
            "bin_end": 891,
            "bin_start": 801.9,
            "count": 1
           }
          ],
          "max": "891.0",
          "min": "0.0",
          "nan_count": 0,
          "unique_count": 5
         }
        },
        {
         "dtype": "float64",
         "name": "Pclass",
         "stats": {
          "histogram": [
           {
            "bin_end": 89.85246411687935,
            "bin_start": 0.836071240977049,
            "count": 7
           },
           {
            "bin_end": 178.86885699278164,
            "bin_start": 89.85246411687935,
            "count": 0
           },
           {
            "bin_end": 267.88524986868396,
            "bin_start": 178.86885699278164,
            "count": 0
           },
           {
            "bin_end": 356.90164274458624,
            "bin_start": 267.88524986868396,
            "count": 0
           },
           {
            "bin_end": 445.9180356204885,
            "bin_start": 356.90164274458624,
            "count": 0
           },
           {
            "bin_end": 534.9344284963909,
            "bin_start": 445.9180356204885,
            "count": 0
           },
           {
            "bin_end": 623.9508213722931,
            "bin_start": 534.9344284963909,
            "count": 0
           },
           {
            "bin_end": 712.9672142481954,
            "bin_start": 623.9508213722931,
            "count": 0
           },
           {
            "bin_end": 801.9836071240977,
            "bin_start": 712.9672142481954,
            "count": 0
           },
           {
            "bin_end": 891,
            "bin_start": 801.9836071240977,
            "count": 1
           }
          ],
          "max": "891.0",
          "min": "0.836071240977049",
          "nan_count": 0,
          "unique_count": 6
         }
        },
        {
         "dtype": "float64",
         "name": "Age",
         "stats": {
          "histogram": [
           {
            "bin_end": 71.778,
            "bin_start": 0.42,
            "count": 6
           },
           {
            "bin_end": 143.136,
            "bin_start": 71.778,
            "count": 1
           },
           {
            "bin_end": 214.494,
            "bin_start": 143.136,
            "count": 0
           },
           {
            "bin_end": 285.85200000000003,
            "bin_start": 214.494,
            "count": 0
           },
           {
            "bin_end": 357.21000000000004,
            "bin_start": 285.85200000000003,
            "count": 0
           },
           {
            "bin_end": 428.56800000000004,
            "bin_start": 357.21000000000004,
            "count": 0
           },
           {
            "bin_end": 499.92600000000004,
            "bin_start": 428.56800000000004,
            "count": 0
           },
           {
            "bin_end": 571.284,
            "bin_start": 499.92600000000004,
            "count": 0
           },
           {
            "bin_end": 642.6419999999999,
            "bin_start": 571.284,
            "count": 0
           },
           {
            "bin_end": 714,
            "bin_start": 642.6419999999999,
            "count": 1
           }
          ],
          "max": "714.0",
          "min": "0.42",
          "nan_count": 0,
          "unique_count": 8
         }
        },
        {
         "dtype": "float64",
         "name": "SibSp",
         "stats": {
          "histogram": [
           {
            "bin_end": 89.1,
            "bin_start": 0,
            "count": 7
           },
           {
            "bin_end": 178.2,
            "bin_start": 89.1,
            "count": 0
           },
           {
            "bin_end": 267.29999999999995,
            "bin_start": 178.2,
            "count": 0
           },
           {
            "bin_end": 356.4,
            "bin_start": 267.29999999999995,
            "count": 0
           },
           {
            "bin_end": 445.5,
            "bin_start": 356.4,
            "count": 0
           },
           {
            "bin_end": 534.5999999999999,
            "bin_start": 445.5,
            "count": 0
           },
           {
            "bin_end": 623.6999999999999,
            "bin_start": 534.5999999999999,
            "count": 0
           },
           {
            "bin_end": 712.8,
            "bin_start": 623.6999999999999,
            "count": 0
           },
           {
            "bin_end": 801.9,
            "bin_start": 712.8,
            "count": 0
           },
           {
            "bin_end": 891,
            "bin_start": 801.9,
            "count": 1
           }
          ],
          "max": "891.0",
          "min": "0.0",
          "nan_count": 0,
          "unique_count": 6
         }
        },
        {
         "dtype": "float64",
         "name": "Parch",
         "stats": {
          "histogram": [
           {
            "bin_end": 89.1,
            "bin_start": 0,
            "count": 7
           },
           {
            "bin_end": 178.2,
            "bin_start": 89.1,
            "count": 0
           },
           {
            "bin_end": 267.29999999999995,
            "bin_start": 178.2,
            "count": 0
           },
           {
            "bin_end": 356.4,
            "bin_start": 267.29999999999995,
            "count": 0
           },
           {
            "bin_end": 445.5,
            "bin_start": 356.4,
            "count": 0
           },
           {
            "bin_end": 534.5999999999999,
            "bin_start": 445.5,
            "count": 0
           },
           {
            "bin_end": 623.6999999999999,
            "bin_start": 534.5999999999999,
            "count": 0
           },
           {
            "bin_end": 712.8,
            "bin_start": 623.6999999999999,
            "count": 0
           },
           {
            "bin_end": 801.9,
            "bin_start": 712.8,
            "count": 0
           },
           {
            "bin_end": 891,
            "bin_start": 801.9,
            "count": 1
           }
          ],
          "max": "891.0",
          "min": "0.0",
          "nan_count": 0,
          "unique_count": 5
         }
        },
        {
         "dtype": "float64",
         "name": "Fare",
         "stats": {
          "histogram": [
           {
            "bin_end": 89.1,
            "bin_start": 0,
            "count": 6
           },
           {
            "bin_end": 178.2,
            "bin_start": 89.1,
            "count": 0
           },
           {
            "bin_end": 267.29999999999995,
            "bin_start": 178.2,
            "count": 0
           },
           {
            "bin_end": 356.4,
            "bin_start": 267.29999999999995,
            "count": 0
           },
           {
            "bin_end": 445.5,
            "bin_start": 356.4,
            "count": 0
           },
           {
            "bin_end": 534.5999999999999,
            "bin_start": 445.5,
            "count": 1
           },
           {
            "bin_end": 623.6999999999999,
            "bin_start": 534.5999999999999,
            "count": 0
           },
           {
            "bin_end": 712.8,
            "bin_start": 623.6999999999999,
            "count": 0
           },
           {
            "bin_end": 801.9,
            "bin_start": 712.8,
            "count": 0
           },
           {
            "bin_end": 891,
            "bin_start": 801.9,
            "count": 1
           }
          ],
          "max": "891.0",
          "min": "0.0",
          "nan_count": 0,
          "unique_count": 8
         }
        },
        {
         "dtype": "object",
         "name": "_deepnote_index_column"
        }
       ],
       "row_count": 8,
       "rows": [
        {
         "Age": 714,
         "Fare": 891,
         "Parch": 891,
         "PassengerId": 891,
         "Pclass": 891,
         "SibSp": 891,
         "Survived": 891,
         "_deepnote_index_column": "count"
        },
        {
         "Age": 29.69911764705882,
         "Fare": 32.204207968574636,
         "Parch": 0.38159371492704824,
         "PassengerId": 446,
         "Pclass": 2.308641975308642,
         "SibSp": 0.5230078563411896,
         "Survived": 0.3838383838383838,
         "_deepnote_index_column": "mean"
        },
        {
         "Age": 14.526497332334042,
         "Fare": 49.6934285971809,
         "Parch": 0.8060572211299483,
         "PassengerId": 257.3538420152301,
         "Pclass": 0.836071240977049,
         "SibSp": 1.1027434322934317,
         "Survived": 0.4865924542648575,
         "_deepnote_index_column": "std"
        },
        {
         "Age": 0.42,
         "Fare": 0,
         "Parch": 0,
         "PassengerId": 1,
         "Pclass": 1,
         "SibSp": 0,
         "Survived": 0,
         "_deepnote_index_column": "min"
        },
        {
         "Age": 20.125,
         "Fare": 7.9104,
         "Parch": 0,
         "PassengerId": 223.5,
         "Pclass": 2,
         "SibSp": 0,
         "Survived": 0,
         "_deepnote_index_column": "25%"
        },
        {
         "Age": 28,
         "Fare": 14.4542,
         "Parch": 0,
         "PassengerId": 446,
         "Pclass": 3,
         "SibSp": 0,
         "Survived": 0,
         "_deepnote_index_column": "50%"
        },
        {
         "Age": 38,
         "Fare": 31,
         "Parch": 0,
         "PassengerId": 668.5,
         "Pclass": 3,
         "SibSp": 1,
         "Survived": 1,
         "_deepnote_index_column": "75%"
        },
        {
         "Age": 80,
         "Fare": 512.3292,
         "Parch": 6,
         "PassengerId": 891,
         "Pclass": 3,
         "SibSp": 8,
         "Survived": 1,
         "_deepnote_index_column": "max"
        }
       ]
      },
      "text/html": "<div>\n<style scoped>\n    .dataframe tbody tr th:only-of-type {\n        vertical-align: middle;\n    }\n\n    .dataframe tbody tr th {\n        vertical-align: top;\n    }\n\n    .dataframe thead th {\n        text-align: right;\n    }\n</style>\n<table border=\"1\" class=\"dataframe\">\n  <thead>\n    <tr style=\"text-align: right;\">\n      <th></th>\n      <th>PassengerId</th>\n      <th>Survived</th>\n      <th>Pclass</th>\n      <th>Age</th>\n      <th>SibSp</th>\n      <th>Parch</th>\n      <th>Fare</th>\n    </tr>\n  </thead>\n  <tbody>\n    <tr>\n      <th>count</th>\n      <td>891.000000</td>\n      <td>891.000000</td>\n      <td>891.000000</td>\n      <td>714.000000</td>\n      <td>891.000000</td>\n      <td>891.000000</td>\n      <td>891.000000</td>\n    </tr>\n    <tr>\n      <th>mean</th>\n      <td>446.000000</td>\n      <td>0.383838</td>\n      <td>2.308642</td>\n      <td>29.699118</td>\n      <td>0.523008</td>\n      <td>0.381594</td>\n      <td>32.204208</td>\n    </tr>\n    <tr>\n      <th>std</th>\n      <td>257.353842</td>\n      <td>0.486592</td>\n      <td>0.836071</td>\n      <td>14.526497</td>\n      <td>1.102743</td>\n      <td>0.806057</td>\n      <td>49.693429</td>\n    </tr>\n    <tr>\n      <th>min</th>\n      <td>1.000000</td>\n      <td>0.000000</td>\n      <td>1.000000</td>\n      <td>0.420000</td>\n      <td>0.000000</td>\n      <td>0.000000</td>\n      <td>0.000000</td>\n    </tr>\n    <tr>\n      <th>25%</th>\n      <td>223.500000</td>\n      <td>0.000000</td>\n      <td>2.000000</td>\n      <td>20.125000</td>\n      <td>0.000000</td>\n      <td>0.000000</td>\n      <td>7.910400</td>\n    </tr>\n    <tr>\n      <th>50%</th>\n      <td>446.000000</td>\n      <td>0.000000</td>\n      <td>3.000000</td>\n      <td>28.000000</td>\n      <td>0.000000</td>\n      <td>0.000000</td>\n      <td>14.454200</td>\n    </tr>\n    <tr>\n      <th>75%</th>\n      <td>668.500000</td>\n      <td>1.000000</td>\n      <td>3.000000</td>\n      <td>38.000000</td>\n      <td>1.000000</td>\n      <td>0.000000</td>\n      <td>31.000000</td>\n    </tr>\n    <tr>\n      <th>max</th>\n      <td>891.000000</td>\n      <td>1.000000</td>\n      <td>3.000000</td>\n      <td>80.000000</td>\n      <td>8.000000</td>\n      <td>6.000000</td>\n      <td>512.329200</td>\n    </tr>\n  </tbody>\n</table>\n</div>",
      "text/plain": "       PassengerId    Survived      Pclass         Age       SibSp  \\\ncount   891.000000  891.000000  891.000000  714.000000  891.000000   \nmean    446.000000    0.383838    2.308642   29.699118    0.523008   \nstd     257.353842    0.486592    0.836071   14.526497    1.102743   \nmin       1.000000    0.000000    1.000000    0.420000    0.000000   \n25%     223.500000    0.000000    2.000000   20.125000    0.000000   \n50%     446.000000    0.000000    3.000000   28.000000    0.000000   \n75%     668.500000    1.000000    3.000000   38.000000    1.000000   \nmax     891.000000    1.000000    3.000000   80.000000    8.000000   \n\n            Parch        Fare  \ncount  891.000000  891.000000  \nmean     0.381594   32.204208  \nstd      0.806057   49.693429  \nmin      0.000000    0.000000  \n25%      0.000000    7.910400  \n50%      0.000000   14.454200  \n75%      0.000000   31.000000  \nmax      6.000000  512.329200  "
     },
     "execution_count": 15,
     "metadata": {},
     "output_type": "execute_result"
    }
   ]
  },
  {
   "cell_type": "markdown",
   "source": "## Splitting data",
   "metadata": {
    "cell_id": "00009-bde6b629-081f-481e-8a8c-4ffbad815951",
    "deepnote_cell_type": "markdown"
   }
  },
  {
   "cell_type": "code",
   "metadata": {
    "deepnote_to_be_reexecuted": false,
    "execution_millis": 1,
    "execution_start": 1653387524991,
    "source_hash": "3bc2711e",
    "tags": [],
    "cell_id": "00010-f69dd503-38d3-4caf-83f3-b19a5e0884c7",
    "deepnote_cell_type": "code",
    "deepnote_cell_height": 99
   },
   "source": "#Choosing the columns we want and dropping the null values\ntitanic = titanic[['Age', 'Pclass', 'SibSp', 'Fare', 'Parch', 'Survived']].dropna()",
   "execution_count": 44,
   "outputs": []
  },
  {
   "cell_type": "code",
   "metadata": {
    "deepnote_to_be_reexecuted": false,
    "execution_millis": 1,
    "execution_start": 1653388830757,
    "source_hash": "85fc76f7",
    "tags": [],
    "cell_id": "00011-8ec38a6c-521f-4c50-b301-ab993bfb375b",
    "deepnote_cell_type": "code",
    "deepnote_cell_height": 99
   },
   "source": "#choosing targets for y\ny = titanic.Survived",
   "execution_count": 70,
   "outputs": []
  },
  {
   "cell_type": "code",
   "metadata": {
    "deepnote_to_be_reexecuted": false,
    "execution_millis": 32,
    "execution_start": 1653388836976,
    "source_hash": "1513b440",
    "tags": [],
    "cell_id": "00012-0d60239b-fde9-4101-9cdc-7e7686b2ebd1",
    "deepnote_cell_type": "code",
    "deepnote_cell_height": 99
   },
   "source": "#choosing features for the X\nX = titanic[['Age', 'Pclass', 'SibSp', 'Fare', 'Parch']]",
   "execution_count": 71,
   "outputs": []
  },
  {
   "cell_type": "code",
   "metadata": {
    "deepnote_to_be_reexecuted": false,
    "execution_millis": 14,
    "execution_start": 1653388847319,
    "source_hash": "488f1302",
    "tags": [],
    "cell_id": "00013-ad79769d-0a08-44ae-9118-59d2a8499a3d",
    "deepnote_cell_type": "code",
    "deepnote_cell_height": 99
   },
   "source": "#Splitting the train data into test and train data\nX_train, X_test, y_train, y_test = train_test_split(X,y,random_state=42)",
   "execution_count": 72,
   "outputs": []
  },
  {
   "cell_type": "markdown",
   "source": "Why are we using random state 42? Please google it!",
   "metadata": {
    "tags": [],
    "cell_id": "00014-cc85ab26-bbf0-4e9c-9fec-531a6739fdc2",
    "deepnote_cell_type": "markdown",
    "deepnote_cell_height": 52.390625
   }
  },
  {
   "cell_type": "markdown",
   "source": "## Training model",
   "metadata": {
    "cell_id": "00015-393cd93c-f7a5-4bb4-bfaa-59214f6a4a71",
    "deepnote_cell_type": "markdown"
   }
  },
  {
   "cell_type": "code",
   "metadata": {
    "deepnote_to_be_reexecuted": false,
    "execution_millis": 0,
    "execution_start": 1653388935518,
    "source_hash": "7c0c52b3",
    "tags": [],
    "cell_id": "00016-51ebe6d8-2be8-4899-bd73-e5d8a23d0cb5",
    "deepnote_cell_type": "code",
    "deepnote_cell_height": 135
   },
   "source": "#choosing a model\nclf = DecisionTreeClassifier()\n\nsearch = GridSearchCV(clf, param_grid = {})",
   "execution_count": 74,
   "outputs": []
  },
  {
   "cell_type": "code",
   "metadata": {
    "deepnote_to_be_reexecuted": false,
    "execution_millis": 74,
    "execution_start": 1653388951119,
    "source_hash": "5bd91b1a",
    "tags": [],
    "cell_id": "00017-e08631c8-9343-4b0e-91e5-909d597cc094",
    "deepnote_cell_type": "code",
    "deepnote_cell_height": 136.1875,
    "deepnote_output_heights": [
     21.1875
    ]
   },
   "source": "#fitting the model\nsearch.fit(X_train, y_train)",
   "execution_count": 75,
   "outputs": [
    {
     "data": {
      "text/plain": "GridSearchCV(estimator=DecisionTreeClassifier(), param_grid={})"
     },
     "execution_count": 75,
     "metadata": {},
     "output_type": "execute_result"
    }
   ]
  },
  {
   "cell_type": "code",
   "metadata": {
    "deepnote_to_be_reexecuted": false,
    "execution_millis": 566,
    "execution_start": 1653388955519,
    "source_hash": "2a262666",
    "tags": [],
    "cell_id": "00018-3a9056e8-78d4-40ba-beda-6ad1ff07dec1",
    "deepnote_cell_type": "code",
    "deepnote_cell_height": 136.1875,
    "deepnote_output_heights": [
     21.1875
    ]
   },
   "source": "#choosing best params\nsearch.best_params_",
   "execution_count": 76,
   "outputs": [
    {
     "data": {
      "text/plain": "{}"
     },
     "execution_count": 76,
     "metadata": {},
     "output_type": "execute_result"
    }
   ]
  },
  {
   "cell_type": "code",
   "metadata": {
    "deepnote_to_be_reexecuted": false,
    "execution_millis": 714,
    "execution_start": 1653388958188,
    "source_hash": "2e0c2d59",
    "tags": [],
    "cell_id": "00019-e8933a9b-896b-43e9-9843-5aa491ddc2f3",
    "deepnote_cell_type": "code",
    "deepnote_cell_height": 118.1875,
    "deepnote_output_heights": [
     21.1875
    ]
   },
   "source": "search.score(X, y)",
   "execution_count": 77,
   "outputs": [
    {
     "data": {
      "text/plain": "0.9061624649859944"
     },
     "execution_count": 77,
     "metadata": {},
     "output_type": "execute_result"
    }
   ]
  },
  {
   "cell_type": "markdown",
   "source": "## Testing model",
   "metadata": {
    "cell_id": "00020-d1ab3791-061d-4d69-bc64-3df8068db66c",
    "deepnote_cell_type": "markdown"
   }
  },
  {
   "cell_type": "code",
   "metadata": {
    "deepnote_to_be_reexecuted": false,
    "execution_millis": 6,
    "execution_start": 1653389150183,
    "source_hash": "cfb67949",
    "tags": [],
    "cell_id": "00021-9d2a38af-7bfc-47a6-a221-c615b2a7af31",
    "deepnote_cell_type": "code",
    "deepnote_cell_height": 99,
    "deepnote_output_heights": [
     481.6875
    ]
   },
   "source": "#predicting the model\nprediction = search.predict(X_test)",
   "execution_count": 86,
   "outputs": []
  },
  {
   "cell_type": "code",
   "metadata": {
    "deepnote_to_be_reexecuted": false,
    "execution_millis": 4,
    "execution_start": 1653389150746,
    "source_hash": "c29b4600",
    "tags": [],
    "cell_id": "00022-1a0fd672-8d47-40e1-bdf9-d2cadafb7b31",
    "deepnote_cell_type": "code",
    "deepnote_cell_height": 136.1875,
    "deepnote_output_heights": [
     21.1875
    ]
   },
   "source": "#accuracy score for the prediction\naccuracy_score(prediction,y_test)",
   "execution_count": 87,
   "outputs": [
    {
     "data": {
      "text/plain": "0.6815642458100558"
     },
     "execution_count": 87,
     "metadata": {},
     "output_type": "execute_result"
    }
   ]
  },
  {
   "cell_type": "markdown",
   "source": "",
   "metadata": {
    "tags": [],
    "cell_id": "00023-c940156a-a094-4b4e-a84f-e2652b1478b2",
    "deepnote_cell_type": "markdown",
    "deepnote_cell_height": 46
   }
  },
  {
   "cell_type": "markdown",
   "source": "<a style='text-decoration:none;line-height:16px;display:flex;color:#5B5B62;padding:10px;justify-content:end;' href='https://deepnote.com?utm_source=created-in-deepnote-cell&projectId=2ffac352-9a3c-4b65-a47a-4d1926384316' target=\"_blank\">\n<img alt='Created in deepnote.com' style='display:inline;max-height:16px;margin:0px;margin-right:7.5px;' src='data:image/svg+xml;base64,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' > </img>\nCreated in <span style='font-weight:600;margin-left:4px;'>Deepnote</span></a>",
   "metadata": {
    "tags": [],
    "created_in_deepnote_cell": true,
    "deepnote_cell_type": "markdown"
   }
  }
 ],
 "nbformat": 4,
 "nbformat_minor": 2,
 "metadata": {
  "deepnote": {},
  "deepnote_execution_queue": [],
  "deepnote_notebook_id": "37ee2458-edce-45b3-a5e0-bff3bae22683",
  "kernelspec": {
   "display_name": "Python 3",
   "language": "python",
   "name": "python3"
  },
  "language_info": {
   "codemirror_mode": {
    "name": "ipython",
    "version": 3
   },
   "file_extension": ".py",
   "mimetype": "text/x-python",
   "name": "python",
   "nbconvert_exporter": "python",
   "pygments_lexer": "ipython3",
   "version": "3.8.5"
  },
  "toc": {
   "base_numbering": 1,
   "nav_menu": {},
   "number_sections": true,
   "sideBar": true,
   "skip_h1_title": false,
   "title_cell": "Table of Contents",
   "title_sidebar": "Contents",
   "toc_cell": true,
   "toc_position": {},
   "toc_section_display": true,
   "toc_window_display": true
  }
 }
}